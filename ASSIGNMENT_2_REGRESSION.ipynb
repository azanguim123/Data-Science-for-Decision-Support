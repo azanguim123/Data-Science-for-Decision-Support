{
  "nbformat": 4,
  "nbformat_minor": 0,
  "metadata": {
    "colab": {
      "provenance": []
    },
    "kernelspec": {
      "name": "python3",
      "display_name": "Python 3"
    },
    "language_info": {
      "name": "python"
    }
  },
  "cells": [
    {
      "cell_type": "code",
      "execution_count": 8,
      "metadata": {
        "colab": {
          "base_uri": "https://localhost:8080/",
          "height": 376
        },
        "id": "XYxj4fKIwl1z",
        "outputId": "85c8afc0-931d-4f61-cfcc-6ae67ead3989"
      },
      "outputs": [
        {
          "output_type": "error",
          "ename": "MessageError",
          "evalue": "Error: credential propagation was unsuccessful",
          "traceback": [
            "\u001b[0;31m---------------------------------------------------------------------------\u001b[0m",
            "\u001b[0;31mMessageError\u001b[0m                              Traceback (most recent call last)",
            "\u001b[0;32m<ipython-input-8-f9b25f47c8d5>\u001b[0m in \u001b[0;36m<cell line: 20>\u001b[0;34m()\u001b[0m\n\u001b[1;32m     18\u001b[0m \u001b[0;34m\u001b[0m\u001b[0m\n\u001b[1;32m     19\u001b[0m \u001b[0;32mfrom\u001b[0m \u001b[0mgoogle\u001b[0m\u001b[0;34m.\u001b[0m\u001b[0mcolab\u001b[0m \u001b[0;32mimport\u001b[0m \u001b[0mdrive\u001b[0m\u001b[0;34m\u001b[0m\u001b[0;34m\u001b[0m\u001b[0m\n\u001b[0;32m---> 20\u001b[0;31m \u001b[0mdrive\u001b[0m\u001b[0;34m.\u001b[0m\u001b[0mmount\u001b[0m\u001b[0;34m(\u001b[0m\u001b[0;34m'/content/drive'\u001b[0m\u001b[0;34m)\u001b[0m\u001b[0;34m\u001b[0m\u001b[0;34m\u001b[0m\u001b[0m\n\u001b[0m\u001b[1;32m     21\u001b[0m \u001b[0;32mfrom\u001b[0m \u001b[0mgoogle\u001b[0m\u001b[0;34m.\u001b[0m\u001b[0mcolab\u001b[0m \u001b[0;32mimport\u001b[0m \u001b[0mfiles\u001b[0m\u001b[0;34m\u001b[0m\u001b[0;34m\u001b[0m\u001b[0m\n\u001b[1;32m     22\u001b[0m \u001b[0muploaded\u001b[0m \u001b[0;34m=\u001b[0m \u001b[0mfiles\u001b[0m\u001b[0;34m.\u001b[0m\u001b[0mupload\u001b[0m\u001b[0;34m(\u001b[0m\u001b[0;34m)\u001b[0m\u001b[0;34m\u001b[0m\u001b[0;34m\u001b[0m\u001b[0m\n",
            "\u001b[0;32m/usr/local/lib/python3.10/dist-packages/google/colab/drive.py\u001b[0m in \u001b[0;36mmount\u001b[0;34m(mountpoint, force_remount, timeout_ms, readonly)\u001b[0m\n\u001b[1;32m     98\u001b[0m \u001b[0;32mdef\u001b[0m \u001b[0mmount\u001b[0m\u001b[0;34m(\u001b[0m\u001b[0mmountpoint\u001b[0m\u001b[0;34m,\u001b[0m \u001b[0mforce_remount\u001b[0m\u001b[0;34m=\u001b[0m\u001b[0;32mFalse\u001b[0m\u001b[0;34m,\u001b[0m \u001b[0mtimeout_ms\u001b[0m\u001b[0;34m=\u001b[0m\u001b[0;36m120000\u001b[0m\u001b[0;34m,\u001b[0m \u001b[0mreadonly\u001b[0m\u001b[0;34m=\u001b[0m\u001b[0;32mFalse\u001b[0m\u001b[0;34m)\u001b[0m\u001b[0;34m:\u001b[0m\u001b[0;34m\u001b[0m\u001b[0;34m\u001b[0m\u001b[0m\n\u001b[1;32m     99\u001b[0m   \u001b[0;34m\"\"\"Mount your Google Drive at the specified mountpoint path.\"\"\"\u001b[0m\u001b[0;34m\u001b[0m\u001b[0;34m\u001b[0m\u001b[0m\n\u001b[0;32m--> 100\u001b[0;31m   return _mount(\n\u001b[0m\u001b[1;32m    101\u001b[0m       \u001b[0mmountpoint\u001b[0m\u001b[0;34m,\u001b[0m\u001b[0;34m\u001b[0m\u001b[0;34m\u001b[0m\u001b[0m\n\u001b[1;32m    102\u001b[0m       \u001b[0mforce_remount\u001b[0m\u001b[0;34m=\u001b[0m\u001b[0mforce_remount\u001b[0m\u001b[0;34m,\u001b[0m\u001b[0;34m\u001b[0m\u001b[0;34m\u001b[0m\u001b[0m\n",
            "\u001b[0;32m/usr/local/lib/python3.10/dist-packages/google/colab/drive.py\u001b[0m in \u001b[0;36m_mount\u001b[0;34m(mountpoint, force_remount, timeout_ms, ephemeral, readonly)\u001b[0m\n\u001b[1;32m    135\u001b[0m   )\n\u001b[1;32m    136\u001b[0m   \u001b[0;32mif\u001b[0m \u001b[0mephemeral\u001b[0m\u001b[0;34m:\u001b[0m\u001b[0;34m\u001b[0m\u001b[0;34m\u001b[0m\u001b[0m\n\u001b[0;32m--> 137\u001b[0;31m     _message.blocking_request(\n\u001b[0m\u001b[1;32m    138\u001b[0m         \u001b[0;34m'request_auth'\u001b[0m\u001b[0;34m,\u001b[0m\u001b[0;34m\u001b[0m\u001b[0;34m\u001b[0m\u001b[0m\n\u001b[1;32m    139\u001b[0m         \u001b[0mrequest\u001b[0m\u001b[0;34m=\u001b[0m\u001b[0;34m{\u001b[0m\u001b[0;34m'authType'\u001b[0m\u001b[0;34m:\u001b[0m \u001b[0;34m'dfs_ephemeral'\u001b[0m\u001b[0;34m}\u001b[0m\u001b[0;34m,\u001b[0m\u001b[0;34m\u001b[0m\u001b[0;34m\u001b[0m\u001b[0m\n",
            "\u001b[0;32m/usr/local/lib/python3.10/dist-packages/google/colab/_message.py\u001b[0m in \u001b[0;36mblocking_request\u001b[0;34m(request_type, request, timeout_sec, parent)\u001b[0m\n\u001b[1;32m    174\u001b[0m       \u001b[0mrequest_type\u001b[0m\u001b[0;34m,\u001b[0m \u001b[0mrequest\u001b[0m\u001b[0;34m,\u001b[0m \u001b[0mparent\u001b[0m\u001b[0;34m=\u001b[0m\u001b[0mparent\u001b[0m\u001b[0;34m,\u001b[0m \u001b[0mexpect_reply\u001b[0m\u001b[0;34m=\u001b[0m\u001b[0;32mTrue\u001b[0m\u001b[0;34m\u001b[0m\u001b[0;34m\u001b[0m\u001b[0m\n\u001b[1;32m    175\u001b[0m   )\n\u001b[0;32m--> 176\u001b[0;31m   \u001b[0;32mreturn\u001b[0m \u001b[0mread_reply_from_input\u001b[0m\u001b[0;34m(\u001b[0m\u001b[0mrequest_id\u001b[0m\u001b[0;34m,\u001b[0m \u001b[0mtimeout_sec\u001b[0m\u001b[0;34m)\u001b[0m\u001b[0;34m\u001b[0m\u001b[0;34m\u001b[0m\u001b[0m\n\u001b[0m",
            "\u001b[0;32m/usr/local/lib/python3.10/dist-packages/google/colab/_message.py\u001b[0m in \u001b[0;36mread_reply_from_input\u001b[0;34m(message_id, timeout_sec)\u001b[0m\n\u001b[1;32m    101\u001b[0m     ):\n\u001b[1;32m    102\u001b[0m       \u001b[0;32mif\u001b[0m \u001b[0;34m'error'\u001b[0m \u001b[0;32min\u001b[0m \u001b[0mreply\u001b[0m\u001b[0;34m:\u001b[0m\u001b[0;34m\u001b[0m\u001b[0;34m\u001b[0m\u001b[0m\n\u001b[0;32m--> 103\u001b[0;31m         \u001b[0;32mraise\u001b[0m \u001b[0mMessageError\u001b[0m\u001b[0;34m(\u001b[0m\u001b[0mreply\u001b[0m\u001b[0;34m[\u001b[0m\u001b[0;34m'error'\u001b[0m\u001b[0;34m]\u001b[0m\u001b[0;34m)\u001b[0m\u001b[0;34m\u001b[0m\u001b[0;34m\u001b[0m\u001b[0m\n\u001b[0m\u001b[1;32m    104\u001b[0m       \u001b[0;32mreturn\u001b[0m \u001b[0mreply\u001b[0m\u001b[0;34m.\u001b[0m\u001b[0mget\u001b[0m\u001b[0;34m(\u001b[0m\u001b[0;34m'data'\u001b[0m\u001b[0;34m,\u001b[0m \u001b[0;32mNone\u001b[0m\u001b[0;34m)\u001b[0m\u001b[0;34m\u001b[0m\u001b[0;34m\u001b[0m\u001b[0m\n\u001b[1;32m    105\u001b[0m \u001b[0;34m\u001b[0m\u001b[0m\n",
            "\u001b[0;31mMessageError\u001b[0m: Error: credential propagation was unsuccessful"
          ]
        }
      ],
      "source": [
        "import numpy as np\n",
        "import pandas as pd\n",
        "import seaborn as sns\n",
        "import plotly.graph_objects as go\n",
        "from sklearn.model_selection import train_test_split, KFold\n",
        "from sklearn.linear_model import LinearRegression\n",
        "from sklearn.tree import DecisionTreeRegressor\n",
        "from sklearn.svm import SVR\n",
        "from sklearn.neighbors import KNeighborsRegressor\n",
        "from sklearn.ensemble import RandomForestRegressor\n",
        "from sklearn.metrics import mean_squared_error, mean_absolute_error, r2_score\n",
        "from sklearn.preprocessing import MinMaxScaler\n",
        "import json\n",
        "import lightgbm as lgb\n",
        "import xgboost as xgb\n",
        "import catboost\n",
        "\n",
        "\n",
        "from google.colab import drive\n",
        "drive.mount('/content/drive')\n",
        "from google.colab import files\n",
        "uploaded = files.upload()\n",
        "\n",
        "# Load dataset\n",
        "df = pd.read_csv('/content/house.csv')\n",
        "\n",
        "# Define X and Y\n",
        "X = df.drop(columns=['median_house_value'])  # Independent variables\n",
        "Y = df['median_house_value']  # Dependent variable\n",
        "\n",
        "# Split the dataset into training and testing sets (80:20 split, random_state=195)\n",
        "X_train, X_test, Y_train, Y_test = train_test_split(X, Y, test_size=0.2, random_state=195)\n",
        "\n",
        "# Scale the features\n",
        "scaler = MinMaxScaler()\n",
        "X_train_scaled = scaler.fit_transform(X_train)\n",
        "X_test_scaled = scaler.transform(X_test)\n",
        "\n",
        "# Initialize the new models\n",
        "new_models = {\n",
        "    \"Random Forest\": RandomForestRegressor(random_state=195),\n",
        "    \"XGBoost\": xgb.XGBRegressor(objective=\"reg:squarederror\", random_state=195),\n",
        "    \"CatBoost\": catboost.CatBoostRegressor(learning_rate=0.1, iterations=500, depth=6, verbose=0, random_state=195),\n",
        "    \"Light GBM\": lgb.LGBMRegressor(random_state=195)\n",
        "}\n",
        "\n",
        "# Load Best Parameters from Google Drive (new models)\n",
        "new_best_params_path = '/content/drive/My Drive/best_params_new.json'\n",
        "with open(new_best_params_path, \"r\") as f:\n",
        "    new_best_params = json.load(f)\n",
        "\n",
        "# Re-initialize the new models with their tuned parameters\n",
        "optimized_new_models = {\n",
        "    \"Random Forest\": RandomForestRegressor(**new_best_params[\"Random Forest\"], random_state=195),\n",
        "    \"XGBoost\": xgb.XGBRegressor(**new_best_params[\"XGBoost\"], objective=\"reg:squarederror\", random_state=195),\n",
        "    \"CatBoost\": catboost.CatBoostRegressor(**new_best_params[\"CatBoost\"], verbose=0, random_state=195),\n",
        "    \"Light GBM\": lgb.LGBMRegressor(**new_best_params[\"LightGBM\"], random_state=195)\n",
        "}\n",
        "\n",
        "# Load Best Parameters for the old models from Google Drive\n",
        "best_params_path = '/content/drive/My Drive/best_params.json'\n",
        "with open(best_params_path, \"r\") as f:\n",
        "    best_params = json.load(f)\n",
        "\n",
        "# Re-initialize the old models with their tuned parameters\n",
        "optimized_old_models = {\n",
        "    \"Linear Regression\": LinearRegression(),  # No tuning needed\n",
        "    \"Decision Tree\": DecisionTreeRegressor(**best_params[\"Decision Tree\"], random_state=195),\n",
        "    \"Support Vector Machine\": SVR(**best_params[\"Support Vector Machine\"]),\n",
        "    \"k-Nearest Neighbors\": KNeighborsRegressor(**best_params[\"k-Nearest Neighbors\"])\n",
        "}\n",
        "\n",
        "# Update all_models with both old and new models\n",
        "all_models = {\n",
        "    \"Linear Regression\": LinearRegression(),\n",
        "    \"Decision Tree\": DecisionTreeRegressor(random_state=195),\n",
        "    \"Support Vector Machine\": SVR(),\n",
        "    \"k-Nearest Neighbors\": KNeighborsRegressor(n_neighbors=5)\n",
        "}\n",
        "all_models.update(optimized_old_models)\n",
        "all_models.update(optimized_new_models)\n",
        "\n",
        "# commented because we already did the process ...\n",
        "\"\"\"\n",
        "# GridSearchCV to find best parameters for each model\n",
        "from sklearn.model_selection import GridSearchCV\n",
        "\n",
        "param_grid = {\n",
        "    'Random Forest': {\n",
        "        'n_estimators': [50, 100, 200],\n",
        "        'max_depth': [None, 10, 20]\n",
        "    },\n",
        "    'XGBoost': {\n",
        "        'learning_rate': [0.01, 0.1, 0.2],\n",
        "        'n_estimators': [100, 200, 300],\n",
        "        'max_depth': [3, 5, 7]\n",
        "    },\n",
        "    'CatBoost': {\n",
        "        'learning_rate': [0.05, 0.1, 0.2],\n",
        "        'iterations': [200, 500],\n",
        "        'depth': [4, 6]\n",
        "    },\n",
        "    'Light GBM': {\n",
        "        'learning_rate': [0.05, 0.1, 0.2],\n",
        "        'n_estimators': [50, 100, 200],\n",
        "        'max_depth': [3, 6, 10]\n",
        "    }\n",
        "}\n",
        "\"\"\"\n",
        "# Train and evaluate models\n",
        "model_metrics = []\n",
        "for model_name, model in all_models.items():\n",
        "    model.fit(X_train_scaled, Y_train)\n",
        "    Y_train_pred = model.predict(X_train_scaled)\n",
        "    Y_test_pred = model.predict(X_test_scaled)\n",
        "\n",
        "    r2_train = r2_score(Y_train, Y_train_pred)\n",
        "    r2_test = r2_score(Y_test, Y_test_pred)\n",
        "    mse_train = mean_squared_error(Y_train, Y_train_pred)\n",
        "    mse_test = mean_squared_error(Y_test, Y_test_pred)\n",
        "    mae_train = mean_absolute_error(Y_train, Y_train_pred)\n",
        "    mae_test = mean_absolute_error(Y_test, Y_test_pred)\n",
        "\n",
        "    model_metrics.append([model_name, r2_train, r2_test, mse_train, mse_test, mae_train, mae_test])\n",
        "\n",
        "# Create a DataFrame for metrics comparison\n",
        "model_metrics_df = pd.DataFrame(model_metrics, columns=[\"Model\", \"R2_Train\", \"R2_Test\", \"MSE_Train\", \"MSE_Test\", \"MAE_Train\", \"MAE_Test\"])\n",
        "print(model_metrics_df)\n",
        "\n",
        "# Create dataframes for each metric for comparison\n",
        "r2_df = model_metrics_df[[\"Model\", \"R2_Train\", \"R2_Test\"]]\n",
        "mse_df = model_metrics_df[[\"Model\", \"MSE_Train\", \"MSE_Test\"]]\n",
        "mae_df = model_metrics_df[[\"Model\", \"MAE_Train\", \"MAE_Test\"]]\n",
        "\n",
        "# Visualize R2 scores using Plotly bar plots\n",
        "top_3_models = r2_df.sort_values(by=\"R2_Test\", ascending=False).head(3)\n",
        "fig = go.Figure(data=[\n",
        "    go.Bar(name='Train R2', x=top_3_models[\"Model\"], y=top_3_models[\"R2_Train\"]),\n",
        "    go.Bar(name='Test R2', x=top_3_models[\"Model\"], y=top_3_models[\"R2_Test\"])\n",
        "])\n",
        "fig.update_layout(\n",
        "    title=\"R2 Scores for Top 3 Models\",\n",
        "    xaxis_title=\"Model\",\n",
        "    yaxis_title=\"R2 Score\",\n",
        "    barmode='group'\n",
        ")\n",
        "fig.show()\n",
        "\n",
        "# Parity plots for all models using Plotly\n",
        "for model_name, model in all_models.items():\n",
        "    predicted_values = model.predict(X_test_scaled)\n",
        "    fig = go.Figure()\n",
        "    fig.add_trace(go.Scatter(x=Y_test, y=predicted_values, mode='markers', name=model_name))\n",
        "    fig.add_trace(go.Scatter(x=[Y_test.min(), Y_test.max()], y=[Y_test.min(), Y_test.max()], mode='lines', name='Perfect Prediction', line=dict(color='red', dash='dash')))\n",
        "    fig.update_layout(\n",
        "        title=f'Parity Plot: {model_name}',\n",
        "        xaxis_title=\"Actual Values\",\n",
        "        yaxis_title=\"Predicted Values\"\n",
        "    )\n",
        "    fig.show()\n",
        "fig.write_html(\"r2_scores.html\")\n",
        "\n",
        "\n"
      ]
    },
    {
      "cell_type": "code",
      "source": [
        "!pip install CatBoost"
      ],
      "metadata": {
        "colab": {
          "base_uri": "https://localhost:8080/"
        },
        "id": "mMy5DIo4_pIf",
        "outputId": "88edffc7-1b61-4831-b995-0c986fa6ecf5"
      },
      "execution_count": 3,
      "outputs": [
        {
          "output_type": "stream",
          "name": "stdout",
          "text": [
            "Collecting CatBoost\n",
            "  Downloading catboost-1.2.7-cp310-cp310-manylinux2014_x86_64.whl.metadata (1.2 kB)\n",
            "Requirement already satisfied: graphviz in /usr/local/lib/python3.10/dist-packages (from CatBoost) (0.20.3)\n",
            "Requirement already satisfied: matplotlib in /usr/local/lib/python3.10/dist-packages (from CatBoost) (3.8.0)\n",
            "Requirement already satisfied: numpy<2.0,>=1.16.0 in /usr/local/lib/python3.10/dist-packages (from CatBoost) (1.26.4)\n",
            "Requirement already satisfied: pandas>=0.24 in /usr/local/lib/python3.10/dist-packages (from CatBoost) (2.2.2)\n",
            "Requirement already satisfied: scipy in /usr/local/lib/python3.10/dist-packages (from CatBoost) (1.13.1)\n",
            "Requirement already satisfied: plotly in /usr/local/lib/python3.10/dist-packages (from CatBoost) (5.24.1)\n",
            "Requirement already satisfied: six in /usr/local/lib/python3.10/dist-packages (from CatBoost) (1.16.0)\n",
            "Requirement already satisfied: python-dateutil>=2.8.2 in /usr/local/lib/python3.10/dist-packages (from pandas>=0.24->CatBoost) (2.8.2)\n",
            "Requirement already satisfied: pytz>=2020.1 in /usr/local/lib/python3.10/dist-packages (from pandas>=0.24->CatBoost) (2024.2)\n",
            "Requirement already satisfied: tzdata>=2022.7 in /usr/local/lib/python3.10/dist-packages (from pandas>=0.24->CatBoost) (2024.2)\n",
            "Requirement already satisfied: contourpy>=1.0.1 in /usr/local/lib/python3.10/dist-packages (from matplotlib->CatBoost) (1.3.1)\n",
            "Requirement already satisfied: cycler>=0.10 in /usr/local/lib/python3.10/dist-packages (from matplotlib->CatBoost) (0.12.1)\n",
            "Requirement already satisfied: fonttools>=4.22.0 in /usr/local/lib/python3.10/dist-packages (from matplotlib->CatBoost) (4.55.1)\n",
            "Requirement already satisfied: kiwisolver>=1.0.1 in /usr/local/lib/python3.10/dist-packages (from matplotlib->CatBoost) (1.4.7)\n",
            "Requirement already satisfied: packaging>=20.0 in /usr/local/lib/python3.10/dist-packages (from matplotlib->CatBoost) (24.2)\n",
            "Requirement already satisfied: pillow>=6.2.0 in /usr/local/lib/python3.10/dist-packages (from matplotlib->CatBoost) (11.0.0)\n",
            "Requirement already satisfied: pyparsing>=2.3.1 in /usr/local/lib/python3.10/dist-packages (from matplotlib->CatBoost) (3.2.0)\n",
            "Requirement already satisfied: tenacity>=6.2.0 in /usr/local/lib/python3.10/dist-packages (from plotly->CatBoost) (9.0.0)\n",
            "Downloading catboost-1.2.7-cp310-cp310-manylinux2014_x86_64.whl (98.7 MB)\n",
            "\u001b[2K   \u001b[90m━━━━━━━━━━━━━━━━━━━━━━━━━━━━━━━━━━━━━━━━\u001b[0m \u001b[32m98.7/98.7 MB\u001b[0m \u001b[31m8.1 MB/s\u001b[0m eta \u001b[36m0:00:00\u001b[0m\n",
            "\u001b[?25hInstalling collected packages: CatBoost\n",
            "Successfully installed CatBoost-1.2.7\n"
          ]
        }
      ]
    },
    {
      "cell_type": "markdown",
      "source": [],
      "metadata": {
        "id": "npg5xcZT_pn4"
      }
    },
    {
      "cell_type": "code",
      "source": [
        "import plotly.graph_objects as go\n",
        "fig.write_html(\"r2_scores.html\")\n",
        "\n"
      ],
      "metadata": {
        "colab": {
          "base_uri": "https://localhost:8080/",
          "height": 196
        },
        "id": "EW43sB3xlocS",
        "outputId": "cc3e7d18-a54c-4269-9a42-02e991797802"
      },
      "execution_count": 5,
      "outputs": [
        {
          "output_type": "error",
          "ename": "NameError",
          "evalue": "name 'fig' is not defined",
          "traceback": [
            "\u001b[0;31m---------------------------------------------------------------------------\u001b[0m",
            "\u001b[0;31mNameError\u001b[0m                                 Traceback (most recent call last)",
            "\u001b[0;32m<ipython-input-5-a66bf0c5f5dc>\u001b[0m in \u001b[0;36m<cell line: 2>\u001b[0;34m()\u001b[0m\n\u001b[1;32m      1\u001b[0m \u001b[0;32mimport\u001b[0m \u001b[0mplotly\u001b[0m\u001b[0;34m.\u001b[0m\u001b[0mgraph_objects\u001b[0m \u001b[0;32mas\u001b[0m \u001b[0mgo\u001b[0m\u001b[0;34m\u001b[0m\u001b[0;34m\u001b[0m\u001b[0m\n\u001b[0;32m----> 2\u001b[0;31m \u001b[0mfig\u001b[0m\u001b[0;34m.\u001b[0m\u001b[0mwrite_html\u001b[0m\u001b[0;34m(\u001b[0m\u001b[0;34m\"r2_scores.html\"\u001b[0m\u001b[0;34m)\u001b[0m\u001b[0;34m\u001b[0m\u001b[0;34m\u001b[0m\u001b[0m\n\u001b[0m\u001b[1;32m      3\u001b[0m \u001b[0;34m\u001b[0m\u001b[0m\n",
            "\u001b[0;31mNameError\u001b[0m: name 'fig' is not defined"
          ]
        }
      ]
    }
  ]
}